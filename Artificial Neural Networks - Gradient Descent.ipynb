{
 "cells": [
  {
   "cell_type": "markdown",
   "id": "6644841e",
   "metadata": {},
   "source": [
    "# How Gradient Descent works - Utkarsh Gaikwad"
   ]
  },
  {
   "cell_type": "markdown",
   "id": "1f2d4b34",
   "metadata": {},
   "source": [
    "# Generating a random data as an example"
   ]
  },
  {
   "cell_type": "code",
   "execution_count": 1,
   "id": "8f06ff30",
   "metadata": {},
   "outputs": [],
   "source": [
    "import pandas as pd\n",
    "import numpy as np\n",
    "rg = np.random.default_rng()\n",
    "\n",
    "def generate_data(n_features,n_values):\n",
    "    features = rg.random((n_features,n_values))\n",
    "    weights = rg.random((1,n_values))[0]\n",
    "    targets = np.random.choice([0,1],n_features)\n",
    "    col = []\n",
    "    for i in range(n_values):\n",
    "        col.append('x'+str(i))\n",
    "    data = pd.DataFrame(features,columns = col)\n",
    "    data['targets']=targets\n",
    "    return data, weights"
   ]
  },
  {
   "cell_type": "code",
   "execution_count": 2,
   "id": "83493720",
   "metadata": {},
   "outputs": [
    {
     "name": "stdout",
     "output_type": "stream",
     "text": [
      "Initial weights are : [0.98585538 0.83618441 0.82812754]\n"
     ]
    },
    {
     "data": {
      "text/html": [
       "<div>\n",
       "<style scoped>\n",
       "    .dataframe tbody tr th:only-of-type {\n",
       "        vertical-align: middle;\n",
       "    }\n",
       "\n",
       "    .dataframe tbody tr th {\n",
       "        vertical-align: top;\n",
       "    }\n",
       "\n",
       "    .dataframe thead th {\n",
       "        text-align: right;\n",
       "    }\n",
       "</style>\n",
       "<table border=\"1\" class=\"dataframe\">\n",
       "  <thead>\n",
       "    <tr style=\"text-align: right;\">\n",
       "      <th></th>\n",
       "      <th>x0</th>\n",
       "      <th>x1</th>\n",
       "      <th>x2</th>\n",
       "      <th>targets</th>\n",
       "    </tr>\n",
       "  </thead>\n",
       "  <tbody>\n",
       "    <tr>\n",
       "      <th>0</th>\n",
       "      <td>0.234106</td>\n",
       "      <td>0.604468</td>\n",
       "      <td>0.462643</td>\n",
       "      <td>0</td>\n",
       "    </tr>\n",
       "    <tr>\n",
       "      <th>1</th>\n",
       "      <td>0.324374</td>\n",
       "      <td>0.778261</td>\n",
       "      <td>0.065009</td>\n",
       "      <td>1</td>\n",
       "    </tr>\n",
       "    <tr>\n",
       "      <th>2</th>\n",
       "      <td>0.345673</td>\n",
       "      <td>0.443396</td>\n",
       "      <td>0.051487</td>\n",
       "      <td>0</td>\n",
       "    </tr>\n",
       "    <tr>\n",
       "      <th>3</th>\n",
       "      <td>0.082891</td>\n",
       "      <td>0.272165</td>\n",
       "      <td>0.917529</td>\n",
       "      <td>1</td>\n",
       "    </tr>\n",
       "    <tr>\n",
       "      <th>4</th>\n",
       "      <td>0.806188</td>\n",
       "      <td>0.010670</td>\n",
       "      <td>0.672644</td>\n",
       "      <td>1</td>\n",
       "    </tr>\n",
       "    <tr>\n",
       "      <th>...</th>\n",
       "      <td>...</td>\n",
       "      <td>...</td>\n",
       "      <td>...</td>\n",
       "      <td>...</td>\n",
       "    </tr>\n",
       "    <tr>\n",
       "      <th>95</th>\n",
       "      <td>0.619870</td>\n",
       "      <td>0.421211</td>\n",
       "      <td>0.046550</td>\n",
       "      <td>0</td>\n",
       "    </tr>\n",
       "    <tr>\n",
       "      <th>96</th>\n",
       "      <td>0.397076</td>\n",
       "      <td>0.285672</td>\n",
       "      <td>0.718713</td>\n",
       "      <td>1</td>\n",
       "    </tr>\n",
       "    <tr>\n",
       "      <th>97</th>\n",
       "      <td>0.529888</td>\n",
       "      <td>0.445661</td>\n",
       "      <td>0.945958</td>\n",
       "      <td>1</td>\n",
       "    </tr>\n",
       "    <tr>\n",
       "      <th>98</th>\n",
       "      <td>0.780776</td>\n",
       "      <td>0.314199</td>\n",
       "      <td>0.204357</td>\n",
       "      <td>1</td>\n",
       "    </tr>\n",
       "    <tr>\n",
       "      <th>99</th>\n",
       "      <td>0.153958</td>\n",
       "      <td>0.740829</td>\n",
       "      <td>0.428832</td>\n",
       "      <td>1</td>\n",
       "    </tr>\n",
       "  </tbody>\n",
       "</table>\n",
       "<p>100 rows × 4 columns</p>\n",
       "</div>"
      ],
      "text/plain": [
       "          x0        x1        x2  targets\n",
       "0   0.234106  0.604468  0.462643        0\n",
       "1   0.324374  0.778261  0.065009        1\n",
       "2   0.345673  0.443396  0.051487        0\n",
       "3   0.082891  0.272165  0.917529        1\n",
       "4   0.806188  0.010670  0.672644        1\n",
       "..       ...       ...       ...      ...\n",
       "95  0.619870  0.421211  0.046550        0\n",
       "96  0.397076  0.285672  0.718713        1\n",
       "97  0.529888  0.445661  0.945958        1\n",
       "98  0.780776  0.314199  0.204357        1\n",
       "99  0.153958  0.740829  0.428832        1\n",
       "\n",
       "[100 rows x 4 columns]"
      ]
     },
     "execution_count": 2,
     "metadata": {},
     "output_type": "execute_result"
    }
   ],
   "source": [
    "data, weights = generate_data(100,3)\n",
    "print('Initial weights are :',weights)\n",
    "data"
   ]
  },
  {
   "cell_type": "markdown",
   "id": "979ba38e",
   "metadata": {},
   "source": [
    "# Weighted Sum Function"
   ]
  },
  {
   "cell_type": "code",
   "execution_count": 3,
   "id": "028383a9",
   "metadata": {},
   "outputs": [],
   "source": [
    "def get_weighted_sum(feature, weights, bias):\n",
    "    return np.dot(feature,weights)+bias"
   ]
  },
  {
   "cell_type": "markdown",
   "id": "633925d7",
   "metadata": {},
   "source": [
    "# Defining Sigmoid Function"
   ]
  },
  {
   "cell_type": "code",
   "execution_count": 4,
   "id": "07712f82",
   "metadata": {},
   "outputs": [],
   "source": [
    "def sigmoid(w_sum):\n",
    "    return 1/(1+np.exp(-w_sum))"
   ]
  },
  {
   "cell_type": "markdown",
   "id": "8e52a952",
   "metadata": {},
   "source": [
    "# Defining Cross Entropy Loss function"
   ]
  },
  {
   "cell_type": "code",
   "execution_count": 5,
   "id": "9b9337db",
   "metadata": {},
   "outputs": [],
   "source": [
    "def cross_entropy(target, prediction):\n",
    "    return -(target*np.log10(prediction)+(1-target)*np.log10(1-prediction))"
   ]
  },
  {
   "cell_type": "markdown",
   "id": "db68964e",
   "metadata": {},
   "source": [
    "# Defining Weight Updating Function"
   ]
  },
  {
   "cell_type": "code",
   "execution_count": 6,
   "id": "49e76191",
   "metadata": {},
   "outputs": [],
   "source": [
    "def update_weights(weights, l_rate,target, prediction, feature):\n",
    "    new_weights = []\n",
    "    for x,w in zip(feature,weights):\n",
    "        new_w = w + l_rate*(target-prediction)*x\n",
    "        new_weights.append(new_w)\n",
    "    return new_weights"
   ]
  },
  {
   "cell_type": "markdown",
   "id": "505310ed",
   "metadata": {},
   "source": [
    "# Defining Bias Updating Function"
   ]
  },
  {
   "cell_type": "code",
   "execution_count": 7,
   "id": "30540455",
   "metadata": {},
   "outputs": [],
   "source": [
    "def update_bias(bias, l_rate, target, prediction):\n",
    "    return bias + l_rate*(target-prediction)"
   ]
  },
  {
   "cell_type": "markdown",
   "id": "ebba1f81",
   "metadata": {},
   "source": [
    "# Specifying Bias and Learning Rate"
   ]
  },
  {
   "cell_type": "code",
   "execution_count": 8,
   "id": "9e386332",
   "metadata": {},
   "outputs": [],
   "source": [
    "bias = 0.5\n",
    "l_rate = 0.01\n",
    "epochs = 30\n",
    "epoch_loss =[]"
   ]
  },
  {
   "cell_type": "markdown",
   "id": "810fd4e1",
   "metadata": {},
   "source": [
    "# Train Model Function"
   ]
  },
  {
   "cell_type": "code",
   "execution_count": 9,
   "id": "287acb88",
   "metadata": {},
   "outputs": [],
   "source": [
    "def train_model(data, weights, bias, l_rate, epochs):\n",
    "    for e in range(epochs):\n",
    "        individual_loss = []\n",
    "        for i in range(len(data)):\n",
    "            feature = data.loc[i][:-1]\n",
    "            target = data.loc[i][-1]\n",
    "            w_sum = get_weighted_sum(feature, weights, bias)\n",
    "            prediction = sigmoid(w_sum)\n",
    "            loss = cross_entropy(target,prediction)\n",
    "            individual_loss.append(loss)\n",
    "            #Gradient Descent\n",
    "            weights = update_weights(weights, l_rate,target, prediction, feature)\n",
    "            bias = update_bias(bias,l_rate,target,prediction)\n",
    "        average_loss = sum(individual_loss)/len(individual_loss)\n",
    "        epoch_loss.append(average_loss)\n",
    "        print('********************')\n",
    "        print('epoch',e)\n",
    "        print('Cross Entropy Loss : ',average_loss)"
   ]
  },
  {
   "cell_type": "markdown",
   "id": "31f9c39d",
   "metadata": {},
   "source": [
    "# Training the actual Model"
   ]
  },
  {
   "cell_type": "code",
   "execution_count": 10,
   "id": "1b6470fc",
   "metadata": {},
   "outputs": [
    {
     "name": "stdout",
     "output_type": "stream",
     "text": [
      "********************\n",
      "epoch 0\n",
      "Cross Entropy Loss :  0.43770568516471065\n",
      "********************\n",
      "epoch 1\n",
      "Cross Entropy Loss :  0.367239214232494\n",
      "********************\n",
      "epoch 2\n",
      "Cross Entropy Loss :  0.33055232527588907\n",
      "********************\n",
      "epoch 3\n",
      "Cross Entropy Loss :  0.3135799106708268\n",
      "********************\n",
      "epoch 4\n",
      "Cross Entropy Loss :  0.30619031794000223\n",
      "********************\n",
      "epoch 5\n",
      "Cross Entropy Loss :  0.3030294360940687\n",
      "********************\n",
      "epoch 6\n",
      "Cross Entropy Loss :  0.30165560779359496\n",
      "********************\n",
      "epoch 7\n",
      "Cross Entropy Loss :  0.30102474221659026\n",
      "********************\n",
      "epoch 8\n",
      "Cross Entropy Loss :  0.30070182347697605\n",
      "********************\n",
      "epoch 9\n",
      "Cross Entropy Loss :  0.3005073695161017\n",
      "********************\n",
      "epoch 10\n",
      "Cross Entropy Loss :  0.30036757096666655\n",
      "********************\n",
      "epoch 11\n",
      "Cross Entropy Loss :  0.3002520900659422\n",
      "********************\n",
      "epoch 12\n",
      "Cross Entropy Loss :  0.30014843812175096\n",
      "********************\n",
      "epoch 13\n",
      "Cross Entropy Loss :  0.30005144812441714\n",
      "********************\n",
      "epoch 14\n",
      "Cross Entropy Loss :  0.299958953710181\n",
      "********************\n",
      "epoch 15\n",
      "Cross Entropy Loss :  0.29987001690316306\n",
      "********************\n",
      "epoch 16\n",
      "Cross Entropy Loss :  0.2997842020525152\n",
      "********************\n",
      "epoch 17\n",
      "Cross Entropy Loss :  0.2997012789407258\n",
      "********************\n",
      "epoch 18\n",
      "Cross Entropy Loss :  0.2996211017520362\n",
      "********************\n",
      "epoch 19\n",
      "Cross Entropy Loss :  0.2995435599629185\n",
      "********************\n",
      "epoch 20\n",
      "Cross Entropy Loss :  0.29946855855265153\n",
      "********************\n",
      "epoch 21\n",
      "Cross Entropy Loss :  0.2993960101052867\n",
      "********************\n",
      "epoch 22\n",
      "Cross Entropy Loss :  0.29932583169498206\n",
      "********************\n",
      "epoch 23\n",
      "Cross Entropy Loss :  0.29925794367031505\n",
      "********************\n",
      "epoch 24\n",
      "Cross Entropy Loss :  0.2991922691764819\n",
      "********************\n",
      "epoch 25\n",
      "Cross Entropy Loss :  0.29912873395406164\n",
      "********************\n",
      "epoch 26\n",
      "Cross Entropy Loss :  0.29906726623498164\n",
      "********************\n",
      "epoch 27\n",
      "Cross Entropy Loss :  0.2990077966685438\n",
      "********************\n",
      "epoch 28\n",
      "Cross Entropy Loss :  0.2989502582540935\n",
      "********************\n",
      "epoch 29\n",
      "Cross Entropy Loss :  0.2988945862733669\n"
     ]
    }
   ],
   "source": [
    "train_model(data, weights, bias, l_rate, epochs)"
   ]
  },
  {
   "cell_type": "markdown",
   "id": "b403e893",
   "metadata": {},
   "source": [
    "# Plot Epoch Loss"
   ]
  },
  {
   "cell_type": "code",
   "execution_count": 11,
   "id": "c1f5f992",
   "metadata": {},
   "outputs": [
    {
     "data": {
      "image/png": "[encoded data removed]",
      "text/plain": [
       "<Figure size 1440x1440 with 1 Axes>"
      ]
     },
     "metadata": {
      "needs_background": "light"
     },
     "output_type": "display_data"
    }
   ],
   "source": [
    "import matplotlib.pyplot as plt\n",
    "df = pd.DataFrame(epoch_loss)\n",
    "r = range(epochs)\n",
    "plt.figure(figsize=(20,20))\n",
    "plt.plot(df)\n",
    "plt.xlabel('Epochs')\n",
    "plt.ylabel('Cross Entropy Loss')\n",
    "plt.title('Cross Entropy Loss vs Epochs')\n",
    "plt.xticks(r)\n",
    "plt.grid()\n",
    "plt.show()"
   ]
  }
 ],
 "metadata": {
  "kernelspec": {
   "display_name": "Python 3 (ipykernel)",
   "language": "python",
   "name": "python3"
  },
  "language_info": {
   "codemirror_mode": {
    "name": "ipython",
    "version": 3
   },
   "file_extension": ".py",
   "mimetype": "text/x-python",
   "name": "python",
   "nbconvert_exporter": "python",
   "pygments_lexer": "ipython3",
   "version": "3.9.7"
  }
 },
 "nbformat": 4,
 "nbformat_minor": 5
}
